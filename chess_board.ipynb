{
 "cells": [
  {
   "cell_type": "code",
   "execution_count": 2,
   "metadata": {},
   "outputs": [
    {
     "name": "stdout",
     "output_type": "stream",
     "text": [
      "all tests passed\n"
     ]
    },
    {
     "data": {
      "image/png": "[encoded data removed]",
      "text/plain": [
       "<Figure size 432x288 with 1 Axes>"
      ]
     },
     "metadata": {
      "needs_background": "light"
     },
     "output_type": "display_data"
    }
   ],
   "source": [
    "import matplotlib.pyplot as plt\n",
    "import numpy as np \n",
    "\n",
    "class ChessBoard :\n",
    "\n",
    " def render(self ,red, blue):\n",
    "     \n",
    "\n",
    "\n",
    " def is_under_attack(self,red,blue):\n",
    "  \n",
    "\n",
    " def add_red(self,red):\n",
    "     self.grid[red[0],red[1]] = [1,0,0]\n",
    " def add_blue(self,blue):\n",
    "     self.grid[blue[0],blue[1]] = [0,0,1]\n",
    " def is_diagonal(self,point1,point2):\n",
    "  \"\"\"\n",
    "  given coordinates for 2 points a and b\n",
    "  determine if they are diagonals\n",
    "  \"\"\"\n",
    "  dx = abs(point1[0] - point2[0])\n",
    "  dy = abs(point1[1] - point2[1])\n",
    "  return dx == dy\n",
    " def __init__(self) :\n",
    "        self.grid = np.zeros((8,8,3))\n",
    "        for i in range(8):\n",
    "            for j in range(8):\n",
    "                if (i%2 == 0 and j%2 == 0) or (i%2 == 1 and j%2 == 1):\n",
    "                    self.grid[i,j]= [1,1,1]\n",
    "\n",
    "\n",
    "def test_chess():\n",
    "    chessBoard  = ChessBoard()\n",
    "    expected = [\"red is underattack\",\"red is underattack\",\"red is underattack\",\"red is safe\"]\n",
    "    actual = [chessBoard.render([4,3],[2,5]),chessBoard.render([4,3],[4,5]),chessBoard.render([4,5],[2,5]),chessBoard.render([1,3],[2,5])]\n",
    "    assert expected == actual\n",
    "    print(\"all tests passed\")\n",
    "\n",
    "chessBoard  = ChessBoard()\n",
    "test_chess()\n"
   ]
  },
  {
   "cell_type": "code",
   "execution_count": null,
   "metadata": {},
   "outputs": [],
   "source": []
  },
  {
   "cell_type": "code",
   "execution_count": 1,
   "metadata": {},
   "outputs": [],
   "source": [
    "\n"
   ]
  }
 ],
 "metadata": {
  "kernelspec": {
   "display_name": "Python 3",
   "language": "python",
   "name": "python3"
  },
  "language_info": {
   "codemirror_mode": {
    "name": "ipython",
    "version": 3
   },
   "file_extension": ".py",
   "mimetype": "text/x-python",
   "name": "python",
   "nbconvert_exporter": "python",
   "pygments_lexer": "ipython3",
   "version": "3.9.4"
  },
  "metadata": {
   "interpreter": {
    "hash": "7d6993cb2f9ce9a59d5d7380609d9cb5192a9dedd2735a011418ad9e827eb538"
   }
  }
 },
 "nbformat": 4,
 "nbformat_minor": 4
}
