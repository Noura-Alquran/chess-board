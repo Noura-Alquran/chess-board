{
 "cells": [
  {
   "cell_type": "code",
   "execution_count": 47,
   "metadata": {},
   "outputs": [],
   "source": [
    "import matplotlib.pyplot as plt\n",
    "import numpy as np \n",
    "\n",
    "class ChessBoard():\n",
    "    def __init__(self) :\n",
    "        self.grid = np.zeros((8,8,3))\n",
    "        self.red_x = None\n",
    "        self.red_y = None\n",
    "        self.blue_x = None\n",
    "        self.blue_y = None\n",
    "        for i in range(8):\n",
    "            for j in range(8):\n",
    "                if (i % 2 == 0 and j %2 == 0) or (i % 2 == 1 and j % 2 == 1):\n",
    "                    self.grid[i,j]=[1,1,1]\n",
    "\n",
    "    def add_red(self,row,column):\n",
    "        self.red_x = row\n",
    "        self.red_y = column\n",
    "        self.grid[row][column] = [1,0,0]\n",
    "        self.render()\n",
    "    def add_blue(self,row,column):\n",
    "        self.blue_x = row\n",
    "        self.blue_y = column\n",
    "        self.grid[row][column] = [0,0,1]\n",
    "        self.render()\n",
    "        \n",
    "    def render(self):\n",
    "        plt.imshow(self.grid)\n",
    "        \n",
    "    def is_under_attack(self):\n",
    "        if self.blue_x == self.red_x:\n",
    "            return True\n",
    "        elif self.blue_y == self.red_y:\n",
    "            return True\n",
    "        elif abs(self.blue_x - self.red_x) == abs(self.blue_y - self.red_y):\n",
    "            return True\n",
    "        else :\n",
    "            return False\n",
    "    \n",
    "\n",
    "\n",
    "\n"
   ]
  },
  {
   "cell_type": "code",
   "execution_count": 48,
   "metadata": {},
   "outputs": [
    {
     "name": "stdout",
     "output_type": "stream",
     "text": [
      "under attack\n"
     ]
    },
    {
     "data": {
      "image/png": "[encoded data removed]",
      "text/plain": [
       "<Figure size 432x288 with 1 Axes>"
      ]
     },
     "metadata": {
      "needs_background": "light"
     },
     "output_type": "display_data"
    }
   ],
   "source": [
    "# test if red is under attack by a blue piece horizontally:\n",
    "def test_chess_board_one():\n",
    "    chess_board = ChessBoard()\n",
    "    chess_board.add_red(2,5)\n",
    "    chess_board.add_blue(2,1)\n",
    "    expected=True\n",
    "    actual=chess_board.is_under_attack()\n",
    "    assert actual == expected\n",
    "    print('under attack')\n",
    "\n",
    "test_chess_board_one()\n",
    "\n",
    "\n",
    "\n"
   ]
  },
  {
   "cell_type": "code",
   "execution_count": 49,
   "metadata": {},
   "outputs": [
    {
     "name": "stdout",
     "output_type": "stream",
     "text": [
      "under attack\n"
     ]
    },
    {
     "data": {
      "image/png": "[encoded data removed]",
      "text/plain": [
       "<Figure size 432x288 with 1 Axes>"
      ]
     },
     "metadata": {
      "needs_background": "light"
     },
     "output_type": "display_data"
    }
   ],
   "source": [
    "# test if red is under attack by a blue piece vertically :\n",
    "def test_chess_board_two():\n",
    "    chess_board = ChessBoard()\n",
    "    chess_board.add_red(4,5)\n",
    "    chess_board.add_blue(2,5)\n",
    "    expected=True\n",
    "    actual=chess_board.is_under_attack()\n",
    "    assert actual == expected\n",
    "    print('under attack')\n",
    "    \n",
    "test_chess_board_two()"
   ]
  },
  {
   "cell_type": "code",
   "execution_count": 50,
   "metadata": {},
   "outputs": [
    {
     "name": "stdout",
     "output_type": "stream",
     "text": [
      "under attack\n"
     ]
    },
    {
     "data": {
      "image/png": "[encoded data removed]",
      "text/plain": [
       "<Figure size 432x288 with 1 Axes>"
      ]
     },
     "metadata": {
      "needs_background": "light"
     },
     "output_type": "display_data"
    }
   ],
   "source": [
    "# test if red is under attack by a blue piece diagonally :\n",
    "def test_chess_board_three():\n",
    "    chess_board = ChessBoard()\n",
    "    chess_board.add_red(1,1)\n",
    "    chess_board.add_blue(4,4)\n",
    "    expected=True\n",
    "    actual=chess_board.is_under_attack()\n",
    "    assert actual == expected\n",
    "    print('under attack')\n",
    "    \n",
    "test_chess_board_three()"
   ]
  },
  {
   "cell_type": "code",
   "execution_count": 51,
   "metadata": {},
   "outputs": [
    {
     "name": "stdout",
     "output_type": "stream",
     "text": [
      "Not under attack\n"
     ]
    },
    {
     "data": {
      "image/png": "[encoded data removed]",
      "text/plain": [
       "<Figure size 432x288 with 1 Axes>"
      ]
     },
     "metadata": {
      "needs_background": "light"
     },
     "output_type": "display_data"
    }
   ],
   "source": [
    "# test if red is not under attack by a blue :\n",
    "def test_chess_board_four():\n",
    "    chess_board = ChessBoard()\n",
    "    chess_board.add_red(3,2)\n",
    "    chess_board.add_blue(4,4)\n",
    "    expected=False\n",
    "    actual=chess_board.is_under_attack()\n",
    "    assert actual == expected\n",
    "    print('Not under attack')\n",
    "    \n",
    "test_chess_board_four()"
   ]
  },
  {
   "cell_type": "code",
   "execution_count": null,
   "metadata": {},
   "outputs": [],
   "source": []
  },
  {
   "cell_type": "code",
   "execution_count": null,
   "metadata": {},
   "outputs": [],
   "source": []
  }
 ],
 "metadata": {
  "kernelspec": {
   "display_name": "Python 3",
   "language": "python",
   "name": "python3"
  },
  "language_info": {
   "codemirror_mode": {
    "name": "ipython",
    "version": 3
   },
   "file_extension": ".py",
   "mimetype": "text/x-python",
   "name": "python",
   "nbconvert_exporter": "python",
   "pygments_lexer": "ipython3",
   "version": "3.9.4"
  },
  "metadata": {
   "interpreter": {
    "hash": "7d6993cb2f9ce9a59d5d7380609d9cb5192a9dedd2735a011418ad9e827eb538"
   }
  }
 },
 "nbformat": 4,
 "nbformat_minor": 4
}
